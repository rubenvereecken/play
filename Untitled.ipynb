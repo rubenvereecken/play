{
 "cells": [
  {
   "cell_type": "code",
   "execution_count": 3,
   "metadata": {},
   "outputs": [],
   "source": [
    "import numpy as np\n",
    "#import cv2\n",
    "from matplotlib import pyplot as plt\n",
    "%matplotlib notebook\n",
    "import glob\n",
    "import itertools\n",
    "import os\n",
    "import tqdm"
   ]
  },
  {
   "cell_type": "code",
   "execution_count": 4,
   "metadata": {},
   "outputs": [],
   "source": [
    "trace_dir = '/home/ruben/play/traces/MontezumaRevenge-v0'\n",
    "out_dir = '/home/ruben/play/out'\n",
    "os.makedirs(out_dir, exist_ok=True)"
   ]
  },
  {
   "cell_type": "code",
   "execution_count": 5,
   "metadata": {
    "collapsed": true
   },
   "outputs": [],
   "source": [
    "from gym_recording import playback"
   ]
  },
  {
   "cell_type": "code",
   "execution_count": 6,
   "metadata": {
    "collapsed": true
   },
   "outputs": [],
   "source": [
    "episodes = []\n",
    "def save_episode(o, a, r):\n",
    "    episodes.append(dict(o=np.copy(o), a=np.copy(a), r=np.copy(r)))\n",
    "playback.scan_recorded_traces(trace_dir, save_episode)"
   ]
  },
  {
   "cell_type": "code",
   "execution_count": null,
   "metadata": {
    "collapsed": true
   },
   "outputs": [],
   "source": [
    "def show_key_points(im, kp):\n",
    "    out = np.empty_like(im)\n",
    "    out = cv2.drawKeypoints(im,kp, out)\n",
    "    plt.ion()\n",
    "    fig, ax = plt.subplots(1, 1, figsize=(3,4))\n",
    "    ax.imshow(out)"
   ]
  },
  {
   "cell_type": "code",
   "execution_count": null,
   "metadata": {
    "collapsed": true
   },
   "outputs": [],
   "source": [
    "im = episodes[0]['o'][101]; im.shape\n",
    "sift = cv2.xfeatures2d.SIFT_create(contrastThreshold=.15, edgeThreshold=20, sigma=1.4)\n",
    "kp, des = sift.detectAndCompute(im, None)\n",
    "show_key_points(im, kp)"
   ]
  },
  {
   "cell_type": "code",
   "execution_count": null,
   "metadata": {
    "collapsed": true
   },
   "outputs": [],
   "source": [
    "im2 = episodes[0]['o'][31]\n",
    "kp2, des2 = sift.detectAndCompute(im2, None)\n",
    "\n",
    "bf = cv2.BFMatcher(crossCheck=True)\n",
    "matches = bf.match(des,des2)\n",
    "matches = sorted(matches, key = lambda x:x.distance)\n",
    "out = np.empty((420, 160, 3))\n",
    "out = cv2.drawMatches(im,kp,im2,kp2,matches[:], out, flags=2)"
   ]
  },
  {
   "cell_type": "code",
   "execution_count": null,
   "metadata": {
    "collapsed": true
   },
   "outputs": [],
   "source": [
    "plt.ion()\n",
    "fig, ax = plt.subplots(1, 1, figsize=(6,4))\n",
    "ax.imshow(out)"
   ]
  },
  {
   "cell_type": "code",
   "execution_count": null,
   "metadata": {
    "collapsed": true
   },
   "outputs": [],
   "source": [
    "sift_params = {\n",
    "    'contrastThreshold': np.arange(0, .11, .02),\n",
    "    'edgeThreshold': np.arange(0, 10, 2),\n",
    "    'sigma': np.arange(1, 3, .4)\n",
    "}\n",
    "sift_param_combos = [dict(zip(params.keys(), combo)) for combo in itertools.product(*sift_params.values())]\n",
    "len(param_combos)"
   ]
  },
  {
   "cell_type": "code",
   "execution_count": null,
   "metadata": {
    "collapsed": true,
    "scrolled": true
   },
   "outputs": [],
   "source": [
    "def explore_sift_params(param_combos):\n",
    "    plt.ioff()\n",
    "    out = np.empty_like(im)\n",
    "    fig, ax = plt.subplots(1, 1, figsize=(12,12))\n",
    "    for param_combo in tqdm.tqdm(param_combos):\n",
    "        sift = cv2.xfeatures2d.SIFT_create(**param_combo)\n",
    "        kp, des = sift.detectAndCompute(im, None)\n",
    "        out = cv2.drawKeypoints(im, kp, out)\n",
    "        ax.imshow(out)\n",
    "        #axes[0].imshow(im)\n",
    "        fig.savefig(os.path.join(out_dir, 'contrastTh={}_edgeTh={}_sigma={:.1f}.png'.format(param_combo['contrastThreshold'], param_combo['edgeThreshold'], param_combo['sigma'])),\n",
    "                    bbox_inches='tight')"
   ]
  },
  {
   "cell_type": "code",
   "execution_count": 10,
   "metadata": {},
   "outputs": [
    {
     "name": "stderr",
     "output_type": "stream",
     "text": [
      "100%|██████████| 1822/1822 [02:54<00:00, 10.41it/s]\n"
     ]
    }
   ],
   "source": [
    "%matplotlib inline\n",
    "# find the colors within the specified boundaries and apply\n",
    "# the mask\n",
    "images = episodes[1]['o']\n",
    "n_images = images.shape[0]\n",
    "\n",
    "plt.rcParams.update({'font.size': 22})\n",
    "\n",
    "for i in tqdm.trange(n_images):\n",
    "    image = images[i]\n",
    " \n",
    "    # show the images\n",
    "    fig, ax = plt.subplots(1, 1, figsize=(10,8))\n",
    "    #key, avatar, skull = has_key(image), avatar_xy(image), skull_xy(image)\n",
    "    #ax.set_title('avatar x,y=({},{}) \\n skull x,y=({},{}) \\n has_key={}'.format(avatar[1], avatar[0], skull[1], skull[0], key))\n",
    "    ax.imshow(image)\n",
    "    ax.set_xticks([])\n",
    "    ax.set_yticks([])\n",
    "    fig.savefig(out_dir + '/{:03d}.png'.format(i), bbox_inches='tight')\n",
    "    plt.close(fig)"
   ]
  },
  {
   "cell_type": "code",
   "execution_count": 6,
   "metadata": {
    "collapsed": true
   },
   "outputs": [],
   "source": [
    "lower = np.array([232,204,99], dtype = \"uint8\")\n",
    "upper = np.array([232,205,101], dtype = \"uint8\")\n",
    "\n",
    "item_colours = dict(\n",
    "    key=[232,204,99],\n",
    "    avatar=[200, 72, 72],\n",
    "    skull=[236, 236, 236]\n",
    ")\n",
    "item_colours = {k: np.array(v, dtype=np.uint8) for k, v in item_colours.items()}\n",
    "\n",
    "def has_key(image):\n",
    "    mask = cv2.inRange(image, item_colours['key'], item_colours['key'])\n",
    "    output = cv2.bitwise_and(image, image, mask = mask)\n",
    "    # Average out the colour\n",
    "    output = np.mean(output, axis=2)\n",
    "    matched_pixels = np.argwhere(output)\n",
    "    \n",
    "    return np.any(matched_pixels[:,0] <= 50)\n",
    "\n",
    "def avatar_xy(image):\n",
    "    mask = cv2.inRange(image, item_colours['avatar'], item_colours['avatar'])\n",
    "    output = cv2.bitwise_and(image, image, mask = mask)\n",
    "    # Average out the colour\n",
    "    output = np.mean(output, axis=2)\n",
    "    matched_pixels = np.argwhere(output)\n",
    "    # Get rid of lives on top\n",
    "    matched_pixels = matched_pixels[matched_pixels[:,0] >= 50]\n",
    "    \n",
    "    return matched_pixels[0]\n",
    "\n",
    "def skull_xy(image):\n",
    "    mask = cv2.inRange(image, item_colours['skull'], item_colours['skull'])\n",
    "    output = cv2.bitwise_and(image, image, mask = mask)\n",
    "    # Average out the colour\n",
    "    output = np.mean(output, axis=2)\n",
    "    matched_pixels = np.argwhere(output)\n",
    "    # Get rid of lives on top\n",
    "    matched_pixels = matched_pixels[matched_pixels[:,0] >= 50]\n",
    "    \n",
    "    return matched_pixels[0]\n",
    "\n",
    " \n",
    "# find the colors within the specified boundaries and apply\n",
    "# the mask\n",
    "image = episodes[0]['o'][101]\n",
    "mask = cv2.inRange(image, lower, upper)"
   ]
  },
  {
   "cell_type": "code",
   "execution_count": null,
   "metadata": {
    "collapsed": true
   },
   "outputs": [],
   "source": [
    "np.stack([np.array([has_key(image)]), avatar_xy(image), skull_xy(image)])"
   ]
  },
  {
   "cell_type": "code",
   "execution_count": null,
   "metadata": {
    "collapsed": true
   },
   "outputs": [],
   "source": [
    "np.array([has_key(image)]).shape"
   ]
  },
  {
   "cell_type": "code",
   "execution_count": 9,
   "metadata": {},
   "outputs": [
    {
     "data": {
      "text/plain": [
       "array([ 75, 147])"
      ]
     },
     "execution_count": 9,
     "metadata": {},
     "output_type": "execute_result"
    }
   ],
   "source": [
    "avatar"
   ]
  },
  {
   "cell_type": "code",
   "execution_count": 10,
   "metadata": {},
   "outputs": [
    {
     "data": {
      "text/plain": [
       "array([147,  75])"
      ]
     },
     "execution_count": 10,
     "metadata": {},
     "output_type": "execute_result"
    }
   ],
   "source": [
    "avatar[::-1]"
   ]
  },
  {
   "cell_type": "code",
   "execution_count": null,
   "metadata": {
    "collapsed": true
   },
   "outputs": [],
   "source": []
  }
 ],
 "metadata": {
  "kernelspec": {
   "display_name": "Python 3",
   "language": "python",
   "name": "python3"
  },
  "language_info": {
   "codemirror_mode": {
    "name": "ipython",
    "version": 3
   },
   "file_extension": ".py",
   "mimetype": "text/x-python",
   "name": "python",
   "nbconvert_exporter": "python",
   "pygments_lexer": "ipython3",
   "version": "3.6.3"
  }
 },
 "nbformat": 4,
 "nbformat_minor": 2
}
