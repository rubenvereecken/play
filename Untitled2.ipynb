{
 "cells": [
  {
   "cell_type": "code",
   "execution_count": 3,
   "metadata": {
    "collapsed": true
   },
   "outputs": [],
   "source": [
    "import numpy as np\n",
    "#import cv2\n",
    "from matplotlib import pyplot as plt\n",
    "%matplotlib notebook\n",
    "import glob\n",
    "import itertools\n",
    "import os\n",
    "import tqdm\n",
    "import copy"
   ]
  },
  {
   "cell_type": "code",
   "execution_count": 4,
   "metadata": {
    "collapsed": true
   },
   "outputs": [],
   "source": [
    "trace_dir = '/home/ruben/play/traces/MontezumaRevenge-v0'\n",
    "out_dir = '/home/ruben/play/out'\n",
    "os.makedirs(out_dir, exist_ok=True)"
   ]
  },
  {
   "cell_type": "code",
   "execution_count": 5,
   "metadata": {
    "collapsed": true
   },
   "outputs": [],
   "source": [
    "from gym_recording import playback"
   ]
  },
  {
   "cell_type": "code",
   "execution_count": 6,
   "metadata": {},
   "outputs": [],
   "source": [
    "# Paramount that the observation copy is a deep copy. This because observation can be a list/tuple of arrays,\n",
    "# in which case a normal np.copy will fail to copy the underlying objects, which are mapped into the to-be-closed file\n",
    "episodes = []\n",
    "def save_episode(o, a, r):\n",
    "    episodes.append(dict(o=copy.deepcopy(o), a=np.copy(a), r=np.copy(r)))\n",
    "playback.scan_recorded_traces(trace_dir, save_episode)"
   ]
  },
  {
   "cell_type": "code",
   "execution_count": 12,
   "metadata": {},
   "outputs": [],
   "source": [
    "img, ram = episodes[0]['o'][0]"
   ]
  },
  {
   "cell_type": "code",
   "execution_count": null,
   "metadata": {
    "collapsed": true
   },
   "outputs": [],
   "source": []
  }
 ],
 "metadata": {
  "kernelspec": {
   "display_name": "Python 3",
   "language": "python",
   "name": "python3"
  },
  "language_info": {
   "codemirror_mode": {
    "name": "ipython",
    "version": 3
   },
   "file_extension": ".py",
   "mimetype": "text/x-python",
   "name": "python",
   "nbconvert_exporter": "python",
   "pygments_lexer": "ipython3",
   "version": "3.6.3"
  }
 },
 "nbformat": 4,
 "nbformat_minor": 2
}
